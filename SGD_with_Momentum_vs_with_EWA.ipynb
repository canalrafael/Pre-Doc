{
  "nbformat": 4,
  "nbformat_minor": 0,
  "metadata": {
    "colab": {
      "provenance": [],
      "authorship_tag": "ABX9TyPvQDsaoRoWhOOvhjfB4NVw",
      "include_colab_link": true
    },
    "kernelspec": {
      "name": "python3",
      "display_name": "Python 3"
    },
    "language_info": {
      "name": "python"
    }
  },
  "cells": [
    {
      "cell_type": "markdown",
      "metadata": {
        "id": "view-in-github",
        "colab_type": "text"
      },
      "source": [
        "<a href=\"https://colab.research.google.com/github/canalrafael/Pre-Doc/blob/main/SGD_with_Momentum_vs_with_EWA.ipynb\" target=\"_parent\"><img src=\"https://colab.research.google.com/assets/colab-badge.svg\" alt=\"Open In Colab\"/></a>"
      ]
    },
    {
      "cell_type": "code",
      "source": [
        "# This notebook aims to compare the gradient behavior of SGD with momentum and SGD with EWA"
      ],
      "metadata": {
        "id": "lLwiqjTvdJr8"
      },
      "execution_count": null,
      "outputs": []
    },
    {
      "cell_type": "code",
      "source": [
        "import numpy as np\n",
        "import matplotlib.pyplot as plt"
      ],
      "metadata": {
        "id": "nlzHTJmPo-ZW"
      },
      "execution_count": null,
      "outputs": []
    },
    {
      "cell_type": "code",
      "source": [
        "# Define the function's gradient\n",
        "def gradient(x):\n",
        "    return 2 * x"
      ],
      "metadata": {
        "id": "2UB8Bhpzc9nd"
      },
      "execution_count": null,
      "outputs": []
    },
    {
      "cell_type": "code",
      "source": [
        "# Gradient Descent with Momentum\n",
        "def gradient_descent_with_momentum(starting_point, learning_rate, num_iterations, momentum):\n",
        "    x = starting_point\n",
        "    v = 0  # Initialize the velocity to zero\n",
        "    v_values = []  # Store v_t values for plotting\n",
        "\n",
        "    for epoch in range(num_iterations):\n",
        "        grad = gradient(x)\n",
        "        # Update the velocity: v = momentum * v - learning_rate * grad\n",
        "        v = momentum * v - learning_rate * grad\n",
        "        # Update position using the velocity\n",
        "        x = x + v\n",
        "        v_values.append(v)\n",
        "\n",
        "    return v_values"
      ],
      "metadata": {
        "id": "nISZvY2rc_W9"
      },
      "execution_count": null,
      "outputs": []
    },
    {
      "cell_type": "code",
      "source": [
        "# Gradient Descent with EWA\n",
        "def gradient_descent_with_ewa(starting_point, learning_rate, num_iterations, beta):\n",
        "    x = starting_point\n",
        "    v = 0  # Initialize the EWA term to zero\n",
        "    v_values = []  # Store v_t values for plotting\n",
        "\n",
        "    for _ in range(num_iterations):\n",
        "        grad = gradient(x)\n",
        "        # Update EWA: v = beta * v + (1 - beta) * gradient\n",
        "        v = beta * v + (1 - beta) * grad\n",
        "        # Update position using EWA\n",
        "        x = x - learning_rate * v\n",
        "        v_values.append(v)\n",
        "\n",
        "    return v_values"
      ],
      "metadata": {
        "id": "OKn3HNmXdCcd"
      },
      "execution_count": null,
      "outputs": []
    },
    {
      "cell_type": "code",
      "source": [
        "# Parameters\n",
        "starting_point = 10  # Starting point for optimization\n",
        "learning_rate = 0.1  # Learning rate\n",
        "num_iterations = 50  # Number of iterations\n",
        "momentum = 0.9       # Momentum factor\n",
        "beta = 0.9           # EWA factor"
      ],
      "metadata": {
        "id": "JEMOnaM3dD5F"
      },
      "execution_count": null,
      "outputs": []
    },
    {
      "cell_type": "code",
      "source": [
        "# Perform gradient descent with momentum and capture v_t\n",
        "momentum_v_values = gradient_descent_with_momentum(starting_point, learning_rate, num_iterations, momentum)\n",
        "\n",
        "# Perform gradient descent with EWA and capture v_t\n",
        "ewa_v_values = gradient_descent_with_ewa(starting_point, learning_rate, num_iterations, beta)"
      ],
      "metadata": {
        "id": "nCA14my_dGOt"
      },
      "execution_count": null,
      "outputs": []
    },
    {
      "cell_type": "code",
      "source": [
        "# Plotting the results\n",
        "plt.figure(figsize=(12, 6))\n",
        "plt.plot(range(1, num_iterations + 1), momentum_v_values, label='Gradient Descent with Momentum', marker='o', linestyle='-', color='green')\n",
        "plt.plot(range(1, num_iterations + 1), ewa_v_values, label='Gradient Descent with EWA', marker='x', linestyle='-', color='red')\n",
        "# Plot customization\n",
        "plt.title('Comparison of $v_t$ in Gradient Descent with Momentum vs EWA')\n",
        "plt.xlabel('Iteration')\n",
        "plt.ylabel('$v_t$')\n",
        "plt.legend()\n",
        "plt.grid(True)\n",
        "plt.show()"
      ],
      "metadata": {
        "id": "AeHnnh8AdIdt"
      },
      "execution_count": null,
      "outputs": []
    }
  ]
}